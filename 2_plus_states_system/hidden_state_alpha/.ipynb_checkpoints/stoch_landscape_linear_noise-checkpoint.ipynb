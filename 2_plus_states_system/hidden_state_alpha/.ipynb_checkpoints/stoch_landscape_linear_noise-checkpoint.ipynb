{
 "cells": [
  {
   "cell_type": "code",
   "execution_count": 2,
   "metadata": {},
   "outputs": [
    {
     "data": {
      "text/plain": [
       "\u001b[36mSDEProblem\u001b[0m with uType \u001b[36mArray{Float64,1}\u001b[0m and tType \u001b[36mFloat64\u001b[0m. In-place: \u001b[36mtrue\u001b[0m\n",
       "timespan: (0.0, 30.0)\n",
       "u0: [-5.0, -5.0]"
      ]
     },
     "execution_count": 2,
     "metadata": {},
     "output_type": "execute_result"
    }
   ],
   "source": [
    "using DifferentialEquations, ModelingToolkit, Plots\n",
    "\n",
    "@parameters t σ α\n",
    "@variables x(t) y(t) # x is the State Variable; y the differentiation factor (aka bifurcation parameter)\n",
    "@derivatives D'~t\n",
    "\n",
    "\n",
    "eqs = [ D(x)~y*x-x^3, D(y)~α]\n",
    "noiseeqs = [σ*x, σ*y] # add states LISI\n",
    "\n",
    "potential = SDESystem(eqs, noiseeqs, t, [x,y], [α,σ])\n",
    "\n",
    "initval = [x=>-5.0,y=>-5.0] # modify X start -5\n",
    "\n",
    "tspan = (0.0, 30.0);\n",
    "params = [α=>0.5, σ=>0.1]\n",
    "prob = SDEProblem(potential, initval, tspan, params, noise = WienerProcess(0.0, 0.0, 0.0));"
   ]
  },
  {
   "cell_type": "code",
   "execution_count": null,
   "metadata": {},
   "outputs": [],
   "source": [
    "sol=solve(prob)\n",
    "\n",
    "plot(sol,vars=(y,x))"
   ]
  },
  {
   "cell_type": "code",
   "execution_count": null,
   "metadata": {},
   "outputs": [],
   "source": [
    "for i in 1:99\n",
    "    sol=solve(prob);\n",
    "    plot!(sol,vars=(y,x))\n",
    "end\n",
    "\n",
    "sol=solve(prob);\n",
    "    plot!(sol,vars=(y,x), legend = :outerright)"
   ]
  },
  {
   "cell_type": "code",
   "execution_count": null,
   "metadata": {},
   "outputs": [],
   "source": []
  }
 ],
 "metadata": {
  "kernelspec": {
   "display_name": "JuliaPro_v1.5.3-1 1.5.3",
   "language": "julia",
   "name": "juliapro_v1.5.3-1-1.5"
  },
  "language_info": {
   "file_extension": ".jl",
   "mimetype": "application/julia",
   "name": "julia",
   "version": "1.5.3"
  }
 },
 "nbformat": 4,
 "nbformat_minor": 4
}
