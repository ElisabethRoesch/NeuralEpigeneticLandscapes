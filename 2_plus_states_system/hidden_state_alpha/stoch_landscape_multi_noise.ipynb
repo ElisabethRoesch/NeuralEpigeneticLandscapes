{
 "cells": [
  {
   "cell_type": "code",
   "execution_count": 1,
   "metadata": {},
   "outputs": [],
   "source": [
    "using DifferentialEquations, ModelingToolkit, Plots\n",
    "\n",
    "@parameters t σ α\n",
    "@variables x(t) y(t) # x is the State Variable; y the differentiation factor (aka bifurcation paramet\n",
    "@derivatives D' ~ t\n",
    "\n",
    "\n",
    "eqs = [ D(x) ~ y*x-x^3, D(y) ~ α]\n",
    "noiseeqs = [σ*x, σ*y] # add states (LISI)\n",
    "\n",
    "potential = SDESystem(eqs, noiseeqs, t, [x,y], [α,σ])\n",
    "\n",
    "initval = [x => -5.0,y => -5.0] # modify X start -5 (LISI)\n",
    "\n",
    "tspan = (0.0, 30.0);\n",
    "params = [α => 0.5, σ => 0.1]\n",
    "prob = SDEProblem(potential, initval, tspan, params, noise = WienerProcess(0.0, 0.0)); # modify noise to 2D"
   ]
  },
  {
   "cell_type": "code",
   "execution_count": null,
   "metadata": {},
   "outputs": [],
   "source": [
    "sol = Array(solve(prob))\n",
    "plot(sol[2,:], sol[1,:], legend = :outerright)"
   ]
  },
  {
   "cell_type": "code",
   "execution_count": null,
   "metadata": {},
   "outputs": [],
   "source": [
    "using KernelDensity"
   ]
  },
  {
   "cell_type": "code",
   "execution_count": null,
   "metadata": {},
   "outputs": [],
   "source": [
    "kde_sol_2 = kde(sol[2,:]).density;"
   ]
  },
  {
   "cell_type": "code",
   "execution_count": null,
   "metadata": {},
   "outputs": [],
   "source": [
    "plot(kde_sol_2, 1:length(kde_sol_2))"
   ]
  },
  {
   "cell_type": "code",
   "execution_count": null,
   "metadata": {},
   "outputs": [],
   "source": [
    "sols = [Array(solve(prob)) for i in 1:99];\n",
    "sols_kde_dens = [kde(sols[i][2,:]).density for i in 1:99];"
   ]
  },
  {
   "cell_type": "code",
   "execution_count": null,
   "metadata": {},
   "outputs": [],
   "source": [
    "plt = plot()\n",
    "plts = [plot!(plt, sols[i][2,:], sols[i][1,:],label = \"\") for i in 1:99]\n",
    "plot(plt)"
   ]
  },
  {
   "cell_type": "code",
   "execution_count": null,
   "metadata": {},
   "outputs": [],
   "source": [
    "plt = plot()\n",
    "plts = [plot!(plt, sols_kde_dens[i], 1:length(sols_kde_dens[i]), label = \"\") for i in 1:99]\n",
    "plot(plt)"
   ]
  },
  {
   "cell_type": "code",
   "execution_count": null,
   "metadata": {},
   "outputs": [],
   "source": [
    "# only second half\n",
    "len = Int(round(length(sols[1])/2,digits  = 0 ))\n",
    "\n",
    "plt2 = plot()\n",
    "plts = [plot!(plt2, sols[i][2,len:end], sols[i][1,len:end],label = \"\") for i in 1:99]\n",
    "plot(plt2)"
   ]
  },
  {
   "cell_type": "code",
   "execution_count": null,
   "metadata": {},
   "outputs": [],
   "source": [
    "plt2 = plot()\n",
    "plts = [plot!(plt2, sols_kde_dens[i], 1:length(sols_kde_dens[i]), label = \"\") for i in 1:99]\n",
    "plot(plt2)"
   ]
  },
  {
   "cell_type": "code",
   "execution_count": null,
   "metadata": {},
   "outputs": [],
   "source": []
  }
 ],
 "metadata": {
  "@webio": {
   "lastCommId": null,
   "lastKernelId": null
  },
  "kernelspec": {
   "display_name": "JuliaPro_v1.5.3-1 1.5.3",
   "language": "julia",
   "name": "juliapro_v1.5.3-1-1.5"
  },
  "language_info": {
   "file_extension": ".jl",
   "mimetype": "application/julia",
   "name": "julia",
   "version": "1.5.3"
  }
 },
 "nbformat": 4,
 "nbformat_minor": 4
}
